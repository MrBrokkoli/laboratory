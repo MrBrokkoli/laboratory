{
 "cells": [
  {
   "cell_type": "code",
   "execution_count": 1,
   "metadata": {},
   "outputs": [],
   "source": [
    "import numpy as np\n",
    "import numpy.random as rnd\n",
    "import math as m\n",
    "import matplotlib.pyplot as plt\n",
    "from scipy import stats\n",
    "from scipy import optimize\n",
    "import scipy\n",
    "\n",
    "## \n",
    "# Считается по Нейману\n",
    "##\n",
    "l = 10\n",
    "k = 5\n",
    "\n",
    "def f(x) :\n",
    "    return (k / l) * (x / l)**(k - 1) * np.exp(-(x / l)**k)\n",
    "\n",
    "array_v = list()\n",
    "a = 0\n",
    "b = 10\n",
    "n = 10000\n",
    "\n",
    "array_v = list()\n",
    "array_v = l * np.random.weibull(k, 1000)\n",
    "plot = plt.hist(array_v, bins = 50)"
   ]
  },
  {
   "cell_type": "code",
   "execution_count": 2,
   "metadata": {},
   "outputs": [
    {
     "data": {
      "image/png": "[encoded data removed]",
      "text/plain": [
       "<Figure size 432x288 with 1 Axes>"
      ]
     },
     "metadata": {
      "needs_background": "light"
     },
     "output_type": "display_data"
    }
   ],
   "source": [
    "def getPower(array_v) :\n",
    "    array_p = list()\n",
    "    for var in array_v :\n",
    "        if (var < 4) :\n",
    "            array_p.append(0)\n",
    "        elif (var < 15) :\n",
    "            array_p.append(m.cos(var * m.pi / 11 + 7 * m.pi / 11) + 1)\n",
    "        elif (var < 25) :\n",
    "            array_p.append(7/4 + var / 30 - (var ** 2) / 900)\n",
    "        else : \n",
    "            array_p.append(0)\n",
    "    return array_p\n",
    "array_p = getPower(array_v)\n",
    "plot = plt.hist(array_p, bins = 50)"
   ]
  },
  {
   "cell_type": "code",
   "execution_count": 3,
   "metadata": {},
   "outputs": [
    {
     "name": "stdout",
     "output_type": "stream",
     "text": [
      "0.8949849539511673 0.9258589680078648 0.9567329820645624\n"
     ]
    }
   ],
   "source": [
    "def mean_confidence_interval(data, confidence=0.95): \n",
    "    a = 1.0 * np.array(data) \n",
    "    n = len(a) \n",
    "    m, se = np.mean(a), scipy.stats.sem(a) \n",
    "    h = se * scipy.stats.t.ppf((1 + confidence) / 2., n-1) \n",
    "    return m, m-h, m+h \n",
    "\n",
    "# Рассчёт доверительного интервала\n",
    "center, left, right = mean_confidence_interval(array_p) \n",
    "print(left, center, right)"
   ]
  },
  {
   "cell_type": "code",
   "execution_count": 7,
   "metadata": {},
   "outputs": [],
   "source": [
    "l = 1\n",
    "k = 1.5\n",
    "a = 4\n",
    "b = 10\n",
    "\n",
    "def inv_weibull(x, k, l):\n",
    "    return l * ((- np.log(1 - x)) ** (1 / k))\n",
    "\n",
    "def weibull(x, k, l):\n",
    "    return 1 - np.exp(-((x / l) ** k))\n",
    "\n",
    "U = np.random.uniform(0, 1, 1000)\n",
    "X = [inv_weibull(weibull(a, k, l) + u * (weibull(b, k, l) - weibull(a, k, l)), k, l) for u in U]"
   ]
  },
  {
   "cell_type": "code",
   "execution_count": 8,
   "metadata": {},
   "outputs": [
    {
     "data": {
      "text/plain": [
       "(array([557., 276.,  99.,  42.,  16.,   8.,   1.,   0.,   0.,   1.]),\n",
       " array([4.0000296 , 4.2841123 , 4.56819501, 4.85227771, 5.13636042,\n",
       "        5.42044312, 5.70452583, 5.98860853, 6.27269124, 6.55677394,\n",
       "        6.84085665]),\n",
       " <a list of 10 Patch objects>)"
      ]
     },
     "execution_count": 8,
     "metadata": {},
     "output_type": "execute_result"
    },
    {
     "data": {
      "image/png": "[encoded data removed]",
      "text/plain": [
       "<Figure size 432x288 with 1 Axes>"
      ]
     },
     "metadata": {
      "needs_background": "light"
     },
     "output_type": "display_data"
    }
   ],
   "source": [
    "plt.hist(X)"
   ]
  },
  {
   "cell_type": "code",
   "execution_count": 6,
   "metadata": {},
   "outputs": [
    {
     "name": "stdout",
     "output_type": "stream",
     "text": [
      "0.0074226221414200756 0.008448693083505425 0.009474764025590774\n"
     ]
    }
   ],
   "source": [
    "array_p2 = getPower(X)\n",
    "center, left, right = mean_confidence_interval(array_p2) \n",
    "print(left, center, right)"
   ]
  },
  {
   "cell_type": "code",
   "execution_count": null,
   "metadata": {},
   "outputs": [],
   "source": []
  }
 ],
 "metadata": {
  "kernelspec": {
   "display_name": "Python 3",
   "language": "python",
   "name": "python3"
  },
  "language_info": {
   "codemirror_mode": {
    "name": "ipython",
    "version": 3
   },
   "file_extension": ".py",
   "mimetype": "text/x-python",
   "name": "python",
   "nbconvert_exporter": "python",
   "pygments_lexer": "ipython3",
   "version": "3.6.7"
  }
 },
 "nbformat": 4,
 "nbformat_minor": 2
}
