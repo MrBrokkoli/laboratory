{
 "cells": [
  {
   "cell_type": "code",
   "execution_count": 80,
   "metadata": {},
   "outputs": [],
   "source": [
    "import numpy as np\n",
    "import random\n",
    "import threading\n",
    "import time\n",
    "import multiprocessing\n",
    "import queue"
   ]
  },
  {
   "cell_type": "code",
   "execution_count": 81,
   "metadata": {},
   "outputs": [],
   "source": [
    "for i in range (1, 201):\n",
    "\n",
    "    f = open(\"test/file\" + (str)(i) + \".txt\", 'w')\n",
    "\n",
    "    interval = random.randint(100, 300)\n",
    "    arr_text = ['I', 'more', 'and', 'mathematics', 'love']\n",
    "\n",
    "    for j in range(0, interval):\n",
    "        text = np.random.choice(arr_text, 1)\n",
    "        #print(\"\".join(text))\n",
    "        f.write(\"\".join(text) + '\\n')\n"
   ]
  },
  {
   "cell_type": "code",
   "execution_count": 93,
   "metadata": {},
   "outputs": [
    {
     "name": "stdout",
     "output_type": "stream",
     "text": [
      "{'I': 8103, 'more': 8252, 'and': 7867, 'mathematics': 7935, 'love': 8103}\n",
      "{'more': 8252}\n",
      "0.05196881294250488\n"
     ]
    }
   ],
   "source": [
    "print_q = queue.Queue()\n",
    "\n",
    "class PrinterThread(threading.Thread):\n",
    "    \"\"\"Единственный поток, который имеет право печатать.\n",
    "    \n",
    "    Все остальные потоки могут отправить данные на печать используя print_q.\n",
    "    Такой вариант делает print потоко-безопасным\"\"\"\n",
    "    def __init__(self):\n",
    "        super().__init__(name='Printer', daemon=True)\n",
    "        self.start()\n",
    "        \n",
    "    def run(self):\n",
    "        while True:\n",
    "            args = print_q.get()\n",
    "            print(*args)\n",
    "\n",
    "PrinterThread()    \n",
    "\n",
    "def func(a , b):\n",
    "    result = {'I' : 0, 'more' : 0, 'and' : 0, 'mathematics' : 0, 'love' : 0}\n",
    "    for i in range (a, b):\n",
    "        f = open(\"test/file\" + (str)(i) + \".txt\", 'r')\n",
    "        for line in f:\n",
    "            result[line.rstrip()] += 1\n",
    "            \n",
    "    print(result)\n",
    "            \n",
    "    max_val = max(result.values())\n",
    "    final_dict = {k:v for k, v in result.items() if v == max_val}\n",
    "            \n",
    "    print(final_dict)\n",
    "\n",
    "start_time = time.time()\n",
    "func(1, 201)\n",
    "print(time.time() - start_time)"
   ]
  },
  {
   "cell_type": "code",
   "execution_count": 94,
   "metadata": {},
   "outputs": [
    {
     "name": "stdout",
     "output_type": "stream",
     "text": [
      "{'I': 749, 'more': 758, 'and': 764, 'mathematics': 818, 'love': 797}\n",
      "{'mathematics': 818}\n",
      "{'I': 738, 'more': 717, 'and': 675, 'mathematics': 696, 'love': 752}\n",
      "{'love': 752}\n",
      "{'I': 804, 'more': 863, 'and': 772, 'mathematics': 799, 'love': 798}\n",
      "{'more': 863}\n",
      "{'I': 864, 'more': 944, 'and': 845, 'mathematics': 834, 'love': 855}\n",
      "{'more': 944}\n",
      "{'I': 763, 'more': 752, 'and': 738, 'mathematics': 719, 'love': 731}\n",
      "{'I': 763}\n",
      "{'I': 812, 'more': 766, 'and': 800, 'mathematics': 833, 'love': 808}\n",
      "{'mathematics': 833}\n",
      "{'I': 800, 'more': 814, 'and': 748, 'mathematics': 723, 'love': 753}\n",
      "{'more': 814}\n",
      "{'I': 827, 'more': 860, 'and': 850, 'mathematics': 816, 'love': 833}\n",
      "{'more': 860}\n",
      "{'I': 921, 'more': 908, 'and': 873, 'mathematics': 929, 'love': 977}\n",
      "{'love': 977}\n",
      "{'I': 825, 'more': 870, 'and': 802, 'mathematics': 768, 'love': 799}\n",
      "{'more': 870}\n",
      "0.08694696426391602\n"
     ]
    }
   ],
   "source": [
    "thread_count = 10\n",
    "threads = [\n",
    "    threading.Thread(target=func, args=(i * 20 + 1, (i + 1) * 20 + 1))\n",
    "    for i in range(thread_count)\n",
    "]\n",
    "start_time = time.time()\n",
    "for t in threads:\n",
    "    t.start()\n",
    "for t in threads:\n",
    "    t.join()\n",
    "\n",
    "print(time.time() - start_time)"
   ]
  },
  {
   "cell_type": "code",
   "execution_count": 95,
   "metadata": {},
   "outputs": [
    {
     "name": "stdout",
     "output_type": "stream",
     "text": [
      "{'I': 1604, 'more': 1677, 'and': 1520, 'mathematics': 1522, 'love': 1551}\n",
      "{'more': 1677}\n",
      "{'I': 1512, 'more': 1510, 'and': 1502, 'mathematics': 1537, 'love': 1528}\n",
      "{'mathematics': 1537}\n",
      "{'I': 1659, 'more': 1625, 'and': 1548, 'mathematics': 1625, 'love': 1729}\n",
      "{'love': 1729}\n",
      "{'I': 1676, 'more': 1710, 'and': 1645, 'mathematics': 1667, 'love': 1663}\n",
      "{'more': 1710}\n",
      "{'I': 1652, 'more': 1730, 'and': 1652, 'mathematics': 1584, 'love': 1632}\n",
      "{'more': 1730}\n",
      "0.05896353721618652\n"
     ]
    }
   ],
   "source": [
    "thread_count = 5\n",
    "threads = [\n",
    "    threading.Thread(target=func, args=(i * 40 + 1, (i + 1) * 40 + 1))\n",
    "    for i in range(thread_count)\n",
    "]\n",
    "start_time = time.time()\n",
    "for t in threads:\n",
    "    t.start()\n",
    "for t in threads:\n",
    "    t.join()\n",
    "\n",
    "print(time.time() - start_time)"
   ]
  },
  {
   "cell_type": "code",
   "execution_count": 96,
   "metadata": {},
   "outputs": [
    {
     "data": {
      "text/plain": [
       "0.14091253280639648"
      ]
     },
     "execution_count": 96,
     "metadata": {},
     "output_type": "execute_result"
    }
   ],
   "source": [
    "process_count = 2\n",
    "processes = [\n",
    "    multiprocessing.Process(target=func, args=(i * 100 + 1, (i + 1) * 100 + 1))\n",
    "    for _ in range(process_count)\n",
    "]\n",
    "start_time = time.time()\n",
    "for p in processes:\n",
    "    p.start()\n",
    "for p in processes:\n",
    "    p.join()\n",
    "\n",
    "time.time() - start_time"
   ]
  },
  {
   "cell_type": "code",
   "execution_count": 97,
   "metadata": {},
   "outputs": [
    {
     "data": {
      "text/plain": [
       "0.17789053916931152"
      ]
     },
     "execution_count": 97,
     "metadata": {},
     "output_type": "execute_result"
    }
   ],
   "source": [
    "process_count = 4\n",
    "processes = [\n",
    "    multiprocessing.Process(target=func, args=(i * 50 + 1, (i + 1) * 50 + 1))\n",
    "    for _ in range(process_count)\n",
    "]\n",
    "start_time = time.time()\n",
    "for p in processes:\n",
    "    p.start()\n",
    "for p in processes:\n",
    "    p.join()\n",
    "\n",
    "time.time() - start_time"
   ]
  },
  {
   "cell_type": "code",
   "execution_count": null,
   "metadata": {},
   "outputs": [],
   "source": []
  },
  {
   "cell_type": "code",
   "execution_count": null,
   "metadata": {},
   "outputs": [],
   "source": []
  }
 ],
 "metadata": {
  "kernelspec": {
   "display_name": "Python 3",
   "language": "python",
   "name": "python3"
  },
  "language_info": {
   "codemirror_mode": {
    "name": "ipython",
    "version": 3
   },
   "file_extension": ".py",
   "mimetype": "text/x-python",
   "name": "python",
   "nbconvert_exporter": "python",
   "pygments_lexer": "ipython3",
   "version": "3.7.3"
  }
 },
 "nbformat": 4,
 "nbformat_minor": 2
}
