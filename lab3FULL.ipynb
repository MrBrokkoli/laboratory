{
 "cells": [
  {
   "cell_type": "code",
   "execution_count": 3,
   "metadata": {},
   "outputs": [
    {
     "name": "stdout",
     "output_type": "stream",
     "text": [
      "ssafdgsgdffaf\n",
      "sdfaiuusdfini\n",
      "['s', 's', 'a', 'f', 'd', 'g', 's', 'g', 'd', 'f', 'f', 'a', 'f'] ['s', 'd', 'f', 'a', 'i', 'u', 'u', 's', 'd', 'f', 'i', 'n', 'i']\n",
      "['f', 'a', 's', 'd']\n",
      "['ss', 'dd', 'ff', 'aa', 'ii', 'uu', 'uu', 'ss', 'dd', 'ff', 'ii', 'nn', 'ii']\n",
      "s ss\n",
      "d dd\n",
      "f ff\n",
      "a aa\n",
      "i ii\n",
      "u uu\n",
      "u uu\n",
      "s ss\n",
      "d dd\n",
      "f ff\n",
      "i ii\n",
      "n nn\n",
      "i ii\n"
     ]
    }
   ],
   "source": [
    "#3.1\n",
    "\n",
    "word1 = input() #ssafdgsgdffaf\n",
    "word2 = input() #sdfaiuusdfini\n",
    "\n",
    "list1, list2 = list(word1), list(word2)\n",
    "list3 = list(filter(lambda x: x in \"\".join(set(word1)), \"\".join(set(word2))))\n",
    "       \n",
    "print(list1, list2)\n",
    "print(list3)\n",
    "\n",
    "list4 = list(i + i for i in list2)\n",
    "print(list4)\n",
    "\n",
    "for i, j in zip(list2, list4):\n",
    "    print(i, j)"
   ]
  },
  {
   "cell_type": "code",
   "execution_count": 11,
   "metadata": {},
   "outputs": [
    {
     "name": "stdout",
     "output_type": "stream",
     "text": [
      "['environment.yml', 'apt.txt', 'Index.ipynb', 'folder1', 'folder3', '.ipynb_checkpoints', 'lab3new (2).ipynb', 'out1.txt', 'lab3.ipynb', 'folder2', 'lab3new.ipynb', 'lab3FULL.ipynb']\n",
      "5\n",
      "1\n",
      "4.564851836627929\n"
     ]
    }
   ],
   "source": [
    "#3.2\n",
    "import os\n",
    "import numpy as np\n",
    "\n",
    "print(os.listdir())\n",
    "#for root, dirs, files in os.walk('.'):\n",
    "#    for name in files:\n",
    "#        print(os.path.join(root, name))\n",
    "        \n",
    "f = open('folder1/log1.txt', 'r')\n",
    "out = open('out1.txt', 'w')\n",
    "if string.find('ALIVE-') is not -1 and string.find('anchor_arr') is not -1:\n",
    "         out.write(string)\n",
    "for line in f:\n",
    "    if string.find('ALIVE-') is not -1 and string.find('anchor_arr') is not -1:\n",
    "         out.write(string)\n",
    "f.close()\n",
    "f = open('folder2/log2.txt', 'r')\n",
    "out = open('out1.txt', 'w')\n",
    "for line in f: \n",
    "    if all(str in line for str in strFind): #all elements of the iterable are True\n",
    "        out.write(line)\n",
    "f.close()\n",
    "f = open('folder3/log3.txt', 'r')\n",
    "out = open('out1.txt', 'w')\n",
    "for line in f: \n",
    "    if all(str in line for str in strFind): #all elements of the iterable are True\n",
    "        out.write(line)\n",
    "f.close()\n",
    "out.close()\n",
    "f = open('out1.txt', 'r')\n",
    "mac_len = list()\n",
    "for line in f:\n",
    "    mac_len.append(len(line.split('anchor_arr=')[1].split(',pathloss_arr')[0].split(',')))\n",
    "\n",
    "print(max(mac_len))\n",
    "print(min(mac_len))\n",
    "print(np.mean(mac_len))"
   ]
  },
  {
   "cell_type": "code",
   "execution_count": null,
   "metadata": {},
   "outputs": [],
   "source": [
    "#3.3 \n",
    "import datetime \n",
    "print(\"Введите текущую дату и вермя в формате DD.MM.YYYY\") \n",
    "date1 = input() #09.03.2019 13:55 \n",
    "date_cur = date1.split(' ')[0] \n",
    "time_cur = date1.split(' ')[1] \n",
    "print(\"Введите произвольную дату и время в формате DD.MM.YYYY\") \n",
    "date2 = input() #09.03.2019 15:55 \n",
    "date_cur2 = date2.split(' ')[0] \n",
    "time_cur2 = date2.split(' ')[1] \n",
    "time1 = datetime.datetime((int)(date_cur.split('.')[2]), (int)(date_cur.split('.')[1]), (int)(date_cur.split('.')[0]), (int)(time_cur.split(':')[0]), (int)(time_cur.split(':')[1]), 0) \n",
    "time2 = datetime.datetime((int)(date_cur2.split('.')[2]), (int)(date_cur2.split('.')[1]), (int)(date_cur2.split('.')[0]), (int)(time_cur2.split(':')[0]), (int)(time_cur2.split(':')[1]), 0) \n",
    "\n",
    "if time2 > time1: \n",
    "print(time2 - time1) \n",
    "else: \n",
    "print(time1 - time2)"
   ]
  }
 ],
 "metadata": {
  "kernelspec": {
   "display_name": "Python 3",
   "language": "python",
   "name": "python3"
  },
  "language_info": {
   "codemirror_mode": {
    "name": "ipython",
    "version": 3
   },
   "file_extension": ".py",
   "mimetype": "text/x-python",
   "name": "python",
   "nbconvert_exporter": "python",
   "pygments_lexer": "ipython3",
   "version": "3.6.7"
  }
 },
 "nbformat": 4,
 "nbformat_minor": 2
}
