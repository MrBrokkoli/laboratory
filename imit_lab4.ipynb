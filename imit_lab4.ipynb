{
 "cells": [
  {
   "cell_type": "code",
   "execution_count": 8,
   "metadata": {},
   "outputs": [],
   "source": [
    "import numpy as np\n",
    "import math\n",
    "import matplotlib.pyplot as plt\n",
    "from scipy.optimize import fmin\n",
    "from scipy import integrate\n",
    "import scipy.stats as st\n",
    "\n",
    "def lostnrg(E_start, d):\n",
    "    z = 1\n",
    "    E = E_start\n",
    "    D = d\n",
    "    l = 1\n",
    "    \n",
    "    while True:\n",
    "        R = np.random.exponential(1 / l) # Длина свободного пробега\n",
    "        \n",
    "        # Рассчет углов\n",
    "        phi = np.arccos(1 - 2 * np.random.uniform(0, 1))\n",
    "        \n",
    "        z = math.cos(phi)\n",
    "        \n",
    "        Rz = z * R # Длина проекции пробега на z\n",
    "        D = D - Rz # Сколько осталось пройти\n",
    "        \n",
    "        # Если путь пройден\n",
    "        if D <= 0:\n",
    "            break\n",
    "        \n",
    "        # Прото вернулся назад\n",
    "        if D >= d:\n",
    "            return E0\n",
    "        \n",
    "        # Энергии потеряно при столкновении\n",
    "        e = np.random.uniform(0, E_start)\n",
    "        \n",
    "        # Энергия кончилась\n",
    "        if E <= e:\n",
    "            return E_start\n",
    "        \n",
    "        # Произошла потеря энергии\n",
    "        E = E - e\n",
    "        \n",
    "    return E_start - E\n",
    "\n",
    "#начальная энергия\n",
    "E0 = 1\n",
    "d = 1\n",
    "\n",
    "experiments = []\n",
    "\n",
    "count = 0\n",
    "while count <= 1000:\n",
    "    ex = lostnrg(E0, d)\n",
    "    \n",
    "    if ex != E0:\n",
    "        experiments.append(ex)\n",
    "        count = count + 1\n",
    "        "
   ]
  },
  {
   "cell_type": "code",
   "execution_count": 9,
   "metadata": {},
   "outputs": [
    {
     "data": {
      "image/png": "[encoded data removed]",
      "text/plain": [
       "<Figure size 432x288 with 1 Axes>"
      ]
     },
     "metadata": {
      "needs_background": "light"
     },
     "output_type": "display_data"
    }
   ],
   "source": [
    "_ = plt.hist(experiments)"
   ]
  },
  {
   "cell_type": "code",
   "execution_count": 10,
   "metadata": {},
   "outputs": [
    {
     "data": {
      "text/plain": [
       "0.3034602194915526"
      ]
     },
     "execution_count": 10,
     "metadata": {},
     "output_type": "execute_result"
    }
   ],
   "source": [
    "np.mean(experiments)"
   ]
  },
  {
   "cell_type": "code",
   "execution_count": null,
   "metadata": {},
   "outputs": [],
   "source": []
  }
 ],
 "metadata": {
  "kernelspec": {
   "display_name": "Python 3",
   "language": "python",
   "name": "python3"
  },
  "language_info": {
   "codemirror_mode": {
    "name": "ipython",
    "version": 3
   },
   "file_extension": ".py",
   "mimetype": "text/x-python",
   "name": "python",
   "nbconvert_exporter": "python",
   "pygments_lexer": "ipython3",
   "version": "3.6.7"
  }
 },
 "nbformat": 4,
 "nbformat_minor": 2
}
