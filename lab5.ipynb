{
 "cells": [
  {
   "cell_type": "code",
   "execution_count": 1,
   "metadata": {},
   "outputs": [],
   "source": [
    "import numpy as np\n",
    "import math\n",
    "import matplotlib.pyplot as plt\n",
    "from scipy.optimize import fmin\n",
    "from scipy import integrate\n",
    "import scipy.stats as st"
   ]
  },
  {
   "cell_type": "code",
   "execution_count": 122,
   "metadata": {},
   "outputs": [],
   "source": [
    "# Генерируем решетку\n",
    "def grid_gen(n):\n",
    "    grid = [] # Решетка\n",
    "    \n",
    "    for i in range(0, 2 * n + 1):\n",
    "        grid.append([])\n",
    "        for j in range(0, 2 * n + 1):\n",
    "            grid[i].append(True)\n",
    "    \n",
    "    return grid"
   ]
  },
  {
   "cell_type": "code",
   "execution_count": 161,
   "metadata": {},
   "outputs": [],
   "source": [
    "def chain_gen(x, y, n, g = 1):\n",
    "    \"\"\"\n",
    "    x, y - текущие координаты\n",
    "    n - оставшееся число шагов\n",
    "    g - вероятность цепочки\n",
    "    \"\"\"\n",
    "    grid[x][y] = False # Текущая точка пройдена\n",
    "    result =  True\n",
    "    \n",
    "    # Если цепочка не кончилась\n",
    "    if n > 0 and result:\n",
    "        neighbors = []\n",
    "        \n",
    "        # Найдем все соседние непройденные ранее точки\n",
    "        if grid[x + 1][y]:\n",
    "            neighbors.append([x + 1, y])\n",
    "        if grid[x][y + 1]:\n",
    "            neighbors.append([x, y + 1])\n",
    "        if grid[x - 1][y]:\n",
    "            neighbors.append([x - 1, y])\n",
    "        if grid[x][y - 1]:\n",
    "            neighbors.append([x, y - 1])\n",
    "        \n",
    "        n_count = len(neighbors)\n",
    "        \n",
    "        # Если свободных соседей нет - цепочка самопересекается\n",
    "        if n_count == 0:\n",
    "            result = False\n",
    "            return [result, g]\n",
    "        \n",
    "        g = g / n_count # Вероятность цепочки\n",
    "        n = n - 1 # Оставшееся число шагов\n",
    "        \n",
    "        # Выбор случайного свободного соседа\n",
    "        rand_neighbor = neighbors[np.random.randint(0, n_count)]\n",
    "        \n",
    "        # Следующий шаг цепочки\n",
    "        result, g = chain_gen(rand_neighbor[0], rand_neighbor[1], n, g)\n",
    "        \n",
    "    return [result, g]"
   ]
  },
  {
   "cell_type": "code",
   "execution_count": 208,
   "metadata": {},
   "outputs": [],
   "source": [
    "n = 20 # Длина цепочек\n",
    "N = 10000 # Число экспериментов"
   ]
  },
  {
   "cell_type": "code",
   "execution_count": 209,
   "metadata": {},
   "outputs": [],
   "source": [
    "ex = []\n",
    "\n",
    "# Метод Монте-Карло\n",
    "for i in range(0, N):\n",
    "    grid = grid_gen(n)\n",
    "    ex.append(chain_gen(n, n, n))"
   ]
  },
  {
   "cell_type": "code",
   "execution_count": 210,
   "metadata": {},
   "outputs": [],
   "source": [
    "# Считаем число самонепересекающихся цепочек\n",
    "X = 0\n",
    "\n",
    "for e in ex:\n",
    "    if e[0]:\n",
    "        X = X + 1 / e[1]\n",
    "X = X / N"
   ]
  },
  {
   "cell_type": "code",
   "execution_count": 211,
   "metadata": {},
   "outputs": [
    {
     "name": "stdout",
     "output_type": "stream",
     "text": [
      "Примерное число непересекающихся цепочек: 890892416\n"
     ]
    }
   ],
   "source": [
    "print(\"Примерное число самонепересекающихся цепочек: \" + str(round(X)))"
   ]
  },
  {
   "cell_type": "code",
   "execution_count": null,
   "metadata": {},
   "outputs": [],
   "source": []
  }
 ],
 "metadata": {
  "kernelspec": {
   "display_name": "Python 3",
   "language": "python",
   "name": "python3"
  },
  "language_info": {
   "codemirror_mode": {
    "name": "ipython",
    "version": 3
   },
   "file_extension": ".py",
   "mimetype": "text/x-python",
   "name": "python",
   "nbconvert_exporter": "python",
   "pygments_lexer": "ipython3",
   "version": "3.7.1"
  }
 },
 "nbformat": 4,
 "nbformat_minor": 2
}
