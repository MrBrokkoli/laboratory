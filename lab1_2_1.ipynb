{
 "cells": [
  {
   "cell_type": "code",
   "execution_count": 1,
   "metadata": {},
   "outputs": [],
   "source": [
    "import numpy as np\n",
    "import matplotlib.pyplot as plt\n",
    "import math\n",
    "import scipy.stats as st\n",
    "\n",
    "from scipy.optimize import fmin\n",
    "from scipy import integrate"
   ]
  },
  {
   "cell_type": "code",
   "execution_count": 2,
   "metadata": {},
   "outputs": [],
   "source": [
    "#################\n",
    "# Задание 1.2.1 #\n",
    "#################"
   ]
  },
  {
   "cell_type": "code",
   "execution_count": 3,
   "metadata": {},
   "outputs": [],
   "source": [
    "def generate_sample(density, n, a, b):\n",
    "    \"\"\"\n",
    "    Генерирует выборку методом Неймана\n",
    "    density - плотность распределения\n",
    "    n - количество генерируемых элементов выборки\n",
    "    a, b - интервал\n",
    "    \"\"\"    \n",
    "    # Генерируем вспомогательные значения\n",
    "    def generate_un(n):\n",
    "        return np.random.uniform(0, 1, n)\n",
    "    \n",
    "    sample = [] \n",
    "    \n",
    "    # Максимум плотности распределения\n",
    "    M = density(fmin(lambda x: -density(x, b), 0, disp = False), b)[0]\n",
    "\n",
    "    # Генерируем реализацию density\n",
    "    while len(sample) != n:\n",
    "        u1, u2 = generate_un(2)\n",
    "        x1 = a + (b - a) * u1\n",
    "        x2 = M * u2\n",
    "        \n",
    "        # Если значение подходит, добавляем его\n",
    "        if x2 <= density(x1, b):\n",
    "            sample.append(x1)\n",
    "    \n",
    "    return sample"
   ]
  },
  {
   "cell_type": "code",
   "execution_count": 4,
   "metadata": {},
   "outputs": [],
   "source": [
    "def density(x, K):\n",
    "    A = 1 / integrate.quad(lambda x: x ** 3 * (K - x), 0, K)[0]\n",
    "    \n",
    "    return A * x ** 3 * (K - x)"
   ]
  },
  {
   "cell_type": "code",
   "execution_count": 5,
   "metadata": {},
   "outputs": [],
   "source": [
    "def ruin(sample, V):\n",
    "    if sum(sample) >= V:\n",
    "        return True\n",
    "    return False"
   ]
  },
  {
   "cell_type": "code",
   "execution_count": 6,
   "metadata": {},
   "outputs": [],
   "source": [
    "def ruin_p(ruins):\n",
    "    return len([ruin for ruin in ruins if ruin]) / len(ruins)"
   ]
  },
  {
   "cell_type": "code",
   "execution_count": 7,
   "metadata": {},
   "outputs": [],
   "source": [
    "K = 1489 # Максимальная выплата\n",
    "N = 500 # Число выплат\n",
    "V  = 500000 # Лимит\n",
    "\n",
    "count = 1000 # Число экспериментов\n",
    "ruins = []\n",
    "var_arr = []\n",
    "mean_arr = []\n",
    "\n",
    "# Метод Монте-Карло\n",
    "for c in range(0, count):\n",
    "    sample = generate_sample(density, N, 0, K)\n",
    "    \n",
    "    mean_arr.append(np.mean(sample))\n",
    "    ruins.append(ruin(sample, V))"
   ]
  },
  {
   "cell_type": "code",
   "execution_count": 8,
   "metadata": {},
   "outputs": [
    {
     "data": {
      "text/plain": [
       "0.246"
      ]
     },
     "execution_count": 8,
     "metadata": {},
     "output_type": "execute_result"
    }
   ],
   "source": [
    "ruin_p(ruins)"
   ]
  },
  {
   "cell_type": "code",
   "execution_count": 9,
   "metadata": {},
   "outputs": [
    {
     "name": "stdout",
     "output_type": "stream",
     "text": [
      "0.26826021602140815\n"
     ]
    }
   ],
   "source": [
    "# Аппроксимация на основе ЦПТ\n",
    "#std = np.std(mean_arr)\n",
    "#mean = np.mean(mean_arr)\n",
    "\n",
    "A = 1 / integrate.quad(lambda x: x ** 3 * (K - x), 0, K)[0]\n",
    "mean = integrate.quad(lambda x: x * density(x, K), 0, K)[0]\n",
    "var = integrate.quad(lambda x: (x - mean) ** 2 * density(x, K), 0, K)[0]\n",
    "std = math.sqrt(var)\n",
    "#print(mean)\n",
    "#print(std)\n",
    "#1 - st.norm.cdf(V / N, mean, std)\n",
    "#1 - integrate.quad(lambda x: density((V - N * mean) / (std * math.sqrt(N)), K))[0]\n",
    "X = (V - N * mean) / (std * math.sqrt(N))\n",
    "#print(X)\n",
    "print(1 - st.norm.cdf(X, 0, 1))"
   ]
  },
  {
   "cell_type": "code",
   "execution_count": null,
   "metadata": {},
   "outputs": [],
   "source": []
  },
  {
   "cell_type": "code",
   "execution_count": 10,
   "metadata": {},
   "outputs": [
    {
     "data": {
      "image/png": "[encoded data removed]",
      "text/plain": [
       "<Figure size 432x288 with 1 Axes>"
      ]
     },
     "metadata": {
      "needs_background": "light"
     },
     "output_type": "display_data"
    }
   ],
   "source": [
    "_ = plt.hist(mean_arr, bins = 25)"
   ]
  },
  {
   "cell_type": "code",
   "execution_count": null,
   "metadata": {},
   "outputs": [],
   "source": []
  },
  {
   "cell_type": "code",
   "execution_count": null,
   "metadata": {},
   "outputs": [],
   "source": []
  }
 ],
 "metadata": {
  "kernelspec": {
   "display_name": "Python 3",
   "language": "python",
   "name": "python3"
  },
  "language_info": {
   "codemirror_mode": {
    "name": "ipython",
    "version": 3
   },
   "file_extension": ".py",
   "mimetype": "text/x-python",
   "name": "python",
   "nbconvert_exporter": "python",
   "pygments_lexer": "ipython3",
   "version": "3.6.7"
  }
 },
 "nbformat": 4,
 "nbformat_minor": 2
}
